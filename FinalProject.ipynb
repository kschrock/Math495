{
 "cells": [
  {
   "cell_type": "markdown",
   "metadata": {},
   "source": [
    "   # Math 495 Final Project"
   ]
  },
  {
   "cell_type": "markdown",
   "metadata": {},
   "source": [
    " ## <span style=\"color: purple;\">Kordell Schrock & Clark Reimers</span>"
   ]
  },
  {
   "cell_type": "code",
   "execution_count": null,
   "metadata": {},
   "outputs": [],
   "source": [
    "import pandas as pd\n",
    "import numpy as np\n",
    "import matplotlib as mpt\n",
    "import matplotlib.pyplot as plt\n",
    "import seaborn as sns\n",
    "\n",
    "df = pd.read_csv(\"GameSales2016.csv\") #import dataset\n",
    "df.head()"
   ]
  },
  {
   "cell_type": "markdown",
   "metadata": {},
   "source": [
    " ## <span style=\"color: purple;\">Clean the Data</span>"
   ]
  },
  {
   "cell_type": "code",
   "execution_count": null,
   "metadata": {},
   "outputs": [],
   "source": [
    "df = df.dropna() #remove NA rows\n",
    "df.info()"
   ]
  },
  {
   "cell_type": "code",
   "execution_count": null,
   "metadata": {},
   "outputs": [],
   "source": [
    "df = df.sort_values(by=['Global_Sales'],ascending=False)\n",
    "#for i in df.columns:\n",
    " #   sns.relplot(y=i,x='Global_Sales',data=df)\n",
    "\n",
    "#plt.tight_layout()\n",
    "#plt.show()"
   ]
  },
  {
   "cell_type": "code",
   "execution_count": null,
   "metadata": {},
   "outputs": [],
   "source": [
    "#'User_Score' rows with 'tbd' values to be dropped\n",
    "df = df.drop(df[df.User_Score == 'tbd'].index)\n",
    "# Replace old videogame rating convention \"K-A\" with \"E\"\n",
    "df['Rating']=df['Rating'].replace(['K-A'], 'E')\n",
    "#Convert 'Year_of_Release' from float to integer\n",
    "df['Year_of_Release']=df['Year_of_Release'].astype(int)\n",
    "#Convert 'User_Score' from object to float\n",
    "df['User_Score']=10*df['User_Score'].astype(float)\n",
    "#rename column\n",
    "df = df.rename(columns={\"Year_of_Release\": \"Year\"})\n",
    "#calculate how old a Video Game is\n",
    "df[\"Age\"] = 2018 - df[\"Year\"]\n",
    "df.head()"
   ]
  },
  {
   "cell_type": "code",
   "execution_count": null,
   "metadata": {},
   "outputs": [],
   "source": [
    "from statsmodels.stats.outliers_influence import variance_inflation_factor\n",
    "noObjects = df.select_dtypes(exclude=['object']) #remove objects\n",
    "Xcols= noObjects.drop([], axis=1)\n",
    "vif = pd.DataFrame()\n",
    "vif[\"features\"] = Xcols.columns\n",
    "vif[\"vif_Factor\"] = [variance_inflation_factor(Xcols.values, i) for i in range(Xcols.shape[1])]\n",
    "print(vif) #vif Factor is helpful to find columns to remove since they are not good independent variables\n",
    "#VIF factor under 10 is good for independent variables"
   ]
  },
  {
   "cell_type": "code",
   "execution_count": null,
   "metadata": {},
   "outputs": [],
   "source": [
    "sns.heatmap(df.corr(), annot=True, cmap=\"YlGnBu\") #print the heat map\n",
    "plt.show()"
   ]
  },
  {
   "cell_type": "code",
   "execution_count": null,
   "metadata": {},
   "outputs": [],
   "source": [
    "scored = df.dropna(subset=[\"User_Score\", \"Critic_Score\", \"Rating\"])\n",
    "scored.describe()"
   ]
  },
  {
   "cell_type": "code",
   "execution_count": null,
   "metadata": {},
   "outputs": [],
   "source": [
    "from sklearn.preprocessing import OneHotEncoder\n",
    "import category_encoders as ce\n",
    "numeric_subset = scored.select_dtypes(\"number\").drop(columns=[\"NA_Sales\", \"EU_Sales\", \"JP_Sales\", \"Other_Sales\", \"Year\"])\n",
    "\n",
    "# Select the categorical column\n",
    "categorical_subset = scored[[\"Platform\", \"Genre\", \"Rating\"]]\n",
    "\n",
    "# One hot encode\n",
    "encoder = ce.one_hot.OneHotEncoder()\n",
    "categorical_subset = encoder.fit_transform(categorical_subset)\n",
    "\n",
    "# Join the two dataframes using concat\n",
    "# Make sure to use axis = 1 to perform a column bind\n",
    "features = pd.concat([numeric_subset, categorical_subset], axis = 1)\n",
    "\n",
    "# Find correlations with the score \n",
    "correlations = features.corr()[\"Global_Sales\"].dropna().sort_values()"
   ]
  },
  {
   "cell_type": "code",
   "execution_count": null,
   "metadata": {},
   "outputs": [],
   "source": [
    "correlations.head(5)"
   ]
  },
  {
   "cell_type": "code",
   "execution_count": null,
   "metadata": {},
   "outputs": [],
   "source": [
    "correlations.tail(5)"
   ]
  },
  {
   "cell_type": "code",
   "execution_count": null,
   "metadata": {},
   "outputs": [],
   "source": [
    "from sklearn.model_selection import train_test_split\n",
    "from sklearn import metrics #Import scikit-learn metrics module for accuracy calculation\n",
    "\n",
    "basic_target = pd.Series(features[\"Global_Sales\"])\n",
    "basic_features = features.drop(columns=\"Global_Sales\")\n",
    "features_train, features_test, target_train, target_test = train_test_split(basic_features, basic_target, \n",
    "                                                                            test_size=0.2,\n",
    "                                                                            random_state=42)\n",
    "print(features_train.shape)\n",
    "print(features_test.shape)\n",
    "print(target_train.shape)\n",
    "print(target_test.shape)\n"
   ]
  },
  {
   "cell_type": "code",
   "execution_count": null,
   "metadata": {},
   "outputs": [],
   "source": [
    "from sklearn.linear_model import LinearRegression, Ridge\n",
    "from sklearn.ensemble import RandomForestRegressor, GradientBoostingRegressor\n",
    "from sklearn.svm import SVR\n",
    "from sklearn.neighbors import KNeighborsRegressor"
   ]
  },
  {
   "cell_type": "code",
   "execution_count": null,
   "metadata": {},
   "outputs": [],
   "source": [
    "def fit_and_evaluate(model):\n",
    "    \n",
    "    # Train the model\n",
    "    model.fit(features_train, target_train)\n",
    "    \n",
    "    # Make predictions and evalute\n",
    "    model_pred = model.predict(features_test)\n",
    "    model_mae = mae(target_test, model_pred)\n",
    "    \n",
    "    # Return the performance metric\n",
    "    return model_mae"
   ]
  },
  {
   "cell_type": "code",
   "execution_count": 32,
   "metadata": {},
   "outputs": [],
   "source": [
    "def mae(y_true, y_pred):\n",
    "    return np.average(abs(y_true - y_pred))"
   ]
  },
  {
   "cell_type": "code",
   "execution_count": 33,
   "metadata": {},
   "outputs": [
    {
     "name": "stdout",
     "output_type": "stream",
     "text": [
      "Linear Regression Performance on the test set: MAE = 0.7159\n"
     ]
    }
   ],
   "source": [
    "lr = LinearRegression()\n",
    "lr_mae = fit_and_evaluate(lr)\n",
    "\n",
    "print(\"Linear Regression Performance on the test set: MAE = {:.04f}\".format(lr_mae))\n",
    "# Loss function to be optimized\n",
    "loss = [\"ls\", \"lad\", \"huber\"]\n",
    "\n",
    "# Maximum depth of each tree\n",
    "max_depth = [2, 3, 5, 10, 15]\n",
    "\n",
    "# Minimum number of samples per leaf\n",
    "min_samples_leaf = [1, 2, 4, 6, 8]\n",
    "\n",
    "# Minimum number of samples to split a node\n",
    "min_samples_split = [2, 4, 6, 10]\n",
    "\n",
    "# Maximum number of features to consider for making splits\n",
    "max_features = [\"auto\", \"sqrt\", \"log2\", None]\n",
    "\n",
    "hyperparameter_grid = {\"loss\": loss,\n",
    "                       \"max_depth\": max_depth,\n",
    "                       \"min_samples_leaf\": min_samples_leaf,\n",
    "                       \"min_samples_split\": min_samples_split,\n",
    "                       \"max_features\": max_features}"
   ]
  },
  {
   "cell_type": "code",
   "execution_count": 34,
   "metadata": {},
   "outputs": [],
   "source": [
    "basic_model = GradientBoostingRegressor(random_state = 42)\n",
    "\n",
    "random_cv = RandomizedSearchCV(estimator=basic_model,\n",
    "                               param_distributions=hyperparameter_grid,\n",
    "                               cv=4, n_iter=20, \n",
    "                               scoring=\"neg_mean_absolute_error\",\n",
    "                               n_jobs=-1, verbose=1, \n",
    "                               return_train_score=True,\n",
    "                               random_state=42)"
   ]
  },
  {
   "cell_type": "code",
   "execution_count": 35,
   "metadata": {},
   "outputs": [
    {
     "name": "stdout",
     "output_type": "stream",
     "text": [
      "Fitting 4 folds for each of 20 candidates, totalling 80 fits\n"
     ]
    },
    {
     "data": {
      "text/plain": [
       "RandomizedSearchCV(cv=4, estimator=GradientBoostingRegressor(random_state=42),\n",
       "                   n_iter=20, n_jobs=-1,\n",
       "                   param_distributions={'loss': ['ls', 'lad', 'huber'],\n",
       "                                        'max_depth': [2, 3, 5, 10, 15],\n",
       "                                        'max_features': ['auto', 'sqrt', 'log2',\n",
       "                                                         None],\n",
       "                                        'min_samples_leaf': [1, 2, 4, 6, 8],\n",
       "                                        'min_samples_split': [2, 4, 6, 10]},\n",
       "                   random_state=42, return_train_score=True,\n",
       "                   scoring='neg_mean_absolute_error', verbose=1)"
      ]
     },
     "execution_count": 35,
     "metadata": {},
     "output_type": "execute_result"
    }
   ],
   "source": [
    "random_cv.fit(features_train, target_train)"
   ]
  },
  {
   "cell_type": "code",
   "execution_count": 31,
   "metadata": {},
   "outputs": [
    {
     "data": {
      "text/html": [
       "<div>\n",
       "<style scoped>\n",
       "    .dataframe tbody tr th:only-of-type {\n",
       "        vertical-align: middle;\n",
       "    }\n",
       "\n",
       "    .dataframe tbody tr th {\n",
       "        vertical-align: top;\n",
       "    }\n",
       "\n",
       "    .dataframe thead th {\n",
       "        text-align: right;\n",
       "    }\n",
       "</style>\n",
       "<table border=\"1\" class=\"dataframe\">\n",
       "  <thead>\n",
       "    <tr style=\"text-align: right;\">\n",
       "      <th></th>\n",
       "      <th>mean_test_score</th>\n",
       "      <th>param_loss</th>\n",
       "      <th>param_max_depth</th>\n",
       "      <th>param_min_samples_leaf</th>\n",
       "      <th>param_min_samples_split</th>\n",
       "      <th>param_max_features</th>\n",
       "    </tr>\n",
       "  </thead>\n",
       "  <tbody>\n",
       "    <tr>\n",
       "      <th>0</th>\n",
       "      <td>-0.463182</td>\n",
       "      <td>huber</td>\n",
       "      <td>15</td>\n",
       "      <td>8</td>\n",
       "      <td>6</td>\n",
       "      <td>log2</td>\n",
       "    </tr>\n",
       "    <tr>\n",
       "      <th>7</th>\n",
       "      <td>-0.468981</td>\n",
       "      <td>huber</td>\n",
       "      <td>5</td>\n",
       "      <td>6</td>\n",
       "      <td>6</td>\n",
       "      <td>auto</td>\n",
       "    </tr>\n",
       "    <tr>\n",
       "      <th>17</th>\n",
       "      <td>-0.470044</td>\n",
       "      <td>lad</td>\n",
       "      <td>15</td>\n",
       "      <td>2</td>\n",
       "      <td>4</td>\n",
       "      <td>log2</td>\n",
       "    </tr>\n",
       "    <tr>\n",
       "      <th>1</th>\n",
       "      <td>-0.509264</td>\n",
       "      <td>huber</td>\n",
       "      <td>2</td>\n",
       "      <td>2</td>\n",
       "      <td>4</td>\n",
       "      <td>None</td>\n",
       "    </tr>\n",
       "    <tr>\n",
       "      <th>8</th>\n",
       "      <td>-0.510029</td>\n",
       "      <td>lad</td>\n",
       "      <td>2</td>\n",
       "      <td>4</td>\n",
       "      <td>10</td>\n",
       "      <td>auto</td>\n",
       "    </tr>\n",
       "    <tr>\n",
       "      <th>16</th>\n",
       "      <td>-0.514074</td>\n",
       "      <td>lad</td>\n",
       "      <td>3</td>\n",
       "      <td>1</td>\n",
       "      <td>10</td>\n",
       "      <td>log2</td>\n",
       "    </tr>\n",
       "    <tr>\n",
       "      <th>19</th>\n",
       "      <td>-0.524406</td>\n",
       "      <td>lad</td>\n",
       "      <td>2</td>\n",
       "      <td>1</td>\n",
       "      <td>10</td>\n",
       "      <td>sqrt</td>\n",
       "    </tr>\n",
       "    <tr>\n",
       "      <th>3</th>\n",
       "      <td>-0.525703</td>\n",
       "      <td>lad</td>\n",
       "      <td>2</td>\n",
       "      <td>8</td>\n",
       "      <td>10</td>\n",
       "      <td>sqrt</td>\n",
       "    </tr>\n",
       "    <tr>\n",
       "      <th>18</th>\n",
       "      <td>-0.531332</td>\n",
       "      <td>huber</td>\n",
       "      <td>2</td>\n",
       "      <td>8</td>\n",
       "      <td>6</td>\n",
       "      <td>sqrt</td>\n",
       "    </tr>\n",
       "    <tr>\n",
       "      <th>10</th>\n",
       "      <td>-0.531606</td>\n",
       "      <td>huber</td>\n",
       "      <td>2</td>\n",
       "      <td>1</td>\n",
       "      <td>2</td>\n",
       "      <td>sqrt</td>\n",
       "    </tr>\n",
       "  </tbody>\n",
       "</table>\n",
       "</div>"
      ],
      "text/plain": [
       "    mean_test_score param_loss param_max_depth param_min_samples_leaf  \\\n",
       "0         -0.463182      huber              15                      8   \n",
       "7         -0.468981      huber               5                      6   \n",
       "17        -0.470044        lad              15                      2   \n",
       "1         -0.509264      huber               2                      2   \n",
       "8         -0.510029        lad               2                      4   \n",
       "16        -0.514074        lad               3                      1   \n",
       "19        -0.524406        lad               2                      1   \n",
       "3         -0.525703        lad               2                      8   \n",
       "18        -0.531332      huber               2                      8   \n",
       "10        -0.531606      huber               2                      1   \n",
       "\n",
       "   param_min_samples_split param_max_features  \n",
       "0                        6               log2  \n",
       "7                        6               auto  \n",
       "17                       4               log2  \n",
       "1                        4               None  \n",
       "8                       10               auto  \n",
       "16                      10               log2  \n",
       "19                      10               sqrt  \n",
       "3                       10               sqrt  \n",
       "18                       6               sqrt  \n",
       "10                       2               sqrt  "
      ]
     },
     "execution_count": 31,
     "metadata": {},
     "output_type": "execute_result"
    }
   ],
   "source": [
    "random_results = pd.DataFrame(random_cv.cv_results_).sort_values(\"mean_test_score\", ascending=False)\n",
    "random_results.head(10)[[\"mean_test_score\", \"param_loss\",\n",
    "                         \"param_max_depth\", \"param_min_samples_leaf\", \"param_min_samples_split\",\n",
    "                         \"param_max_features\"]]"
   ]
  },
  {
   "cell_type": "code",
   "execution_count": 36,
   "metadata": {},
   "outputs": [],
   "source": [
    "from sklearn.model_selection import GridSearchCV\n",
    "trees_grid = {\"n_estimators\": [50, 100, 150, 200, 250, 300]}\n",
    "\n",
    "basic_model = random_cv.best_estimator_\n",
    "grid_search = GridSearchCV(estimator=basic_model, param_grid=trees_grid, cv=4, \n",
    "                           scoring=\"neg_mean_absolute_error\", verbose=1,\n",
    "                           n_jobs=-1, return_train_score=True)\n"
   ]
  },
  {
   "cell_type": "code",
   "execution_count": 37,
   "metadata": {},
   "outputs": [
    {
     "name": "stdout",
     "output_type": "stream",
     "text": [
      "Fitting 4 folds for each of 6 candidates, totalling 24 fits\n"
     ]
    }
   ],
   "source": [
    "grid_search.fit(features_train, target_train);\n"
   ]
  },
  {
   "cell_type": "code",
   "execution_count": 56,
   "metadata": {},
   "outputs": [
    {
     "data": {
      "image/png": "[encoded data removed]",
      "text/plain": [
       "<Figure size 432x288 with 1 Axes>"
      ]
     },
     "metadata": {
      "needs_background": "light"
     },
     "output_type": "display_data"
    }
   ],
   "source": [
    "g = (sns.kdeplot(basic_final_pred, label = \"Predictions\").set(xlim=(0,3)))\n",
    "sns.kdeplot(target_test, label = \"Test\")\n",
    "sns.kdeplot(target_train, label = \"Train\")\n",
    "#plt.set_xlim([0,2])\n",
    "plt.xlabel(\"Global Sales\"); plt.ylabel(\"Density\");\n",
    "plt.title(\"Test, Train Values and Predictions\");\n",
    "\n",
    "plt.show(g)"
   ]
  },
  {
   "cell_type": "code",
   "execution_count": 57,
   "metadata": {},
   "outputs": [
    {
     "data": {
      "image/png": "[encoded data removed]",
      "text/plain": [
       "<Figure size 432x288 with 1 Axes>"
      ]
     },
     "metadata": {
      "needs_background": "light"
     },
     "output_type": "display_data"
    }
   ],
   "source": [
    "results = pd.DataFrame(grid_search.cv_results_)\n",
    "\n",
    "plt.plot(results[\"param_n_estimators\"], -1 * results[\"mean_test_score\"], label = \"Testing Error\")\n",
    "plt.plot(results[\"param_n_estimators\"], -1 * results[\"mean_train_score\"], label = \"Training Error\")\n",
    "plt.xlabel(\"Number of Trees\"); plt.ylabel(\"Mean Abosolute Error\"); plt.legend();\n",
    "plt.title(\"Performance vs Number of Trees\");"
   ]
  },
  {
   "cell_type": "code",
   "execution_count": null,
   "metadata": {},
   "outputs": [],
   "source": []
  }
 ],
 "metadata": {
  "kernelspec": {
   "display_name": "Python 3",
   "language": "python",
   "name": "python3"
  }
 },
 "nbformat": 4,
 "nbformat_minor": 4
}
